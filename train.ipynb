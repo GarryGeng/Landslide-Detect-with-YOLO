{
 "cells": [
  {
   "cell_type": "markdown",
   "metadata": {},
   "source": [
    "## Install Package"
   ]
  },
  {
   "cell_type": "code",
   "execution_count": 1,
   "metadata": {},
   "outputs": [
    {
     "name": "stdout",
     "output_type": "stream",
     "text": [
      "Defaulting to user installation because normal site-packages is not writeable\n",
      "Requirement already satisfied: ultralytics in /Users/garrygeng/Library/Python/3.9/lib/python/site-packages (8.3.74)\n",
      "Requirement already satisfied: numpy<=2.1.1,>=1.23.0 in /Users/garrygeng/Library/Python/3.9/lib/python/site-packages (from ultralytics) (1.25.2)\n",
      "Requirement already satisfied: matplotlib>=3.3.0 in /Users/garrygeng/Library/Python/3.9/lib/python/site-packages (from ultralytics) (3.7.2)\n",
      "Requirement already satisfied: opencv-python>=4.6.0 in /Users/garrygeng/Library/Python/3.9/lib/python/site-packages (from ultralytics) (4.10.0.84)\n",
      "Requirement already satisfied: pillow>=7.1.2 in /Users/garrygeng/Library/Python/3.9/lib/python/site-packages (from ultralytics) (10.0.0)\n",
      "Requirement already satisfied: pyyaml>=5.3.1 in /Users/garrygeng/Library/Python/3.9/lib/python/site-packages (from ultralytics) (6.0.1)\n",
      "Requirement already satisfied: requests>=2.23.0 in /Users/garrygeng/Library/Python/3.9/lib/python/site-packages (from ultralytics) (2.32.3)\n",
      "Requirement already satisfied: scipy>=1.4.1 in /Users/garrygeng/Library/Python/3.9/lib/python/site-packages (from ultralytics) (1.12.0)\n",
      "Requirement already satisfied: torch>=1.8.0 in /Users/garrygeng/Library/Python/3.9/lib/python/site-packages (from ultralytics) (2.0.1)\n",
      "Requirement already satisfied: torchvision>=0.9.0 in /Users/garrygeng/Library/Python/3.9/lib/python/site-packages (from ultralytics) (0.15.2)\n",
      "Requirement already satisfied: tqdm>=4.64.0 in /Users/garrygeng/Library/Python/3.9/lib/python/site-packages (from ultralytics) (4.66.4)\n",
      "Requirement already satisfied: psutil in /Users/garrygeng/Library/Python/3.9/lib/python/site-packages (from ultralytics) (5.9.5)\n",
      "Requirement already satisfied: py-cpuinfo in /Users/garrygeng/Library/Python/3.9/lib/python/site-packages (from ultralytics) (9.0.0)\n",
      "Requirement already satisfied: pandas>=1.1.4 in /Users/garrygeng/Library/Python/3.9/lib/python/site-packages (from ultralytics) (2.2.0)\n",
      "Requirement already satisfied: seaborn>=0.11.0 in /Users/garrygeng/Library/Python/3.9/lib/python/site-packages (from ultralytics) (0.13.2)\n",
      "Requirement already satisfied: ultralytics-thop>=2.0.0 in /Users/garrygeng/Library/Python/3.9/lib/python/site-packages (from ultralytics) (2.0.14)\n",
      "Requirement already satisfied: contourpy>=1.0.1 in /Users/garrygeng/Library/Python/3.9/lib/python/site-packages (from matplotlib>=3.3.0->ultralytics) (1.1.0)\n",
      "Requirement already satisfied: cycler>=0.10 in /Users/garrygeng/Library/Python/3.9/lib/python/site-packages (from matplotlib>=3.3.0->ultralytics) (0.11.0)\n",
      "Requirement already satisfied: fonttools>=4.22.0 in /Users/garrygeng/Library/Python/3.9/lib/python/site-packages (from matplotlib>=3.3.0->ultralytics) (4.42.1)\n",
      "Requirement already satisfied: kiwisolver>=1.0.1 in /Users/garrygeng/Library/Python/3.9/lib/python/site-packages (from matplotlib>=3.3.0->ultralytics) (1.4.5)\n",
      "Requirement already satisfied: packaging>=20.0 in /Users/garrygeng/Library/Python/3.9/lib/python/site-packages (from matplotlib>=3.3.0->ultralytics) (23.1)\n",
      "Requirement already satisfied: pyparsing<3.1,>=2.3.1 in /Users/garrygeng/Library/Python/3.9/lib/python/site-packages (from matplotlib>=3.3.0->ultralytics) (3.0.9)\n",
      "Requirement already satisfied: python-dateutil>=2.7 in /Users/garrygeng/Library/Python/3.9/lib/python/site-packages (from matplotlib>=3.3.0->ultralytics) (2.8.2)\n",
      "Requirement already satisfied: importlib-resources>=3.2.0 in /Users/garrygeng/Library/Python/3.9/lib/python/site-packages (from matplotlib>=3.3.0->ultralytics) (6.0.1)\n",
      "Requirement already satisfied: pytz>=2020.1 in /Users/garrygeng/Library/Python/3.9/lib/python/site-packages (from pandas>=1.1.4->ultralytics) (2023.3.post1)\n",
      "Requirement already satisfied: tzdata>=2022.7 in /Users/garrygeng/Library/Python/3.9/lib/python/site-packages (from pandas>=1.1.4->ultralytics) (2024.1)\n",
      "Requirement already satisfied: charset-normalizer<4,>=2 in /Users/garrygeng/Library/Python/3.9/lib/python/site-packages (from requests>=2.23.0->ultralytics) (3.2.0)\n",
      "Requirement already satisfied: idna<4,>=2.5 in /Users/garrygeng/Library/Python/3.9/lib/python/site-packages (from requests>=2.23.0->ultralytics) (3.7)\n",
      "Requirement already satisfied: urllib3<3,>=1.21.1 in /Users/garrygeng/Library/Python/3.9/lib/python/site-packages (from requests>=2.23.0->ultralytics) (2.3.0)\n",
      "Requirement already satisfied: certifi>=2017.4.17 in /Users/garrygeng/Library/Python/3.9/lib/python/site-packages (from requests>=2.23.0->ultralytics) (2023.7.22)\n",
      "Requirement already satisfied: filelock in /Users/garrygeng/Library/Python/3.9/lib/python/site-packages (from torch>=1.8.0->ultralytics) (3.12.3)\n",
      "Requirement already satisfied: typing-extensions in /Users/garrygeng/Library/Python/3.9/lib/python/site-packages (from torch>=1.8.0->ultralytics) (4.12.2)\n",
      "Requirement already satisfied: sympy in /Users/garrygeng/Library/Python/3.9/lib/python/site-packages (from torch>=1.8.0->ultralytics) (1.12)\n",
      "Requirement already satisfied: networkx in /Users/garrygeng/Library/Python/3.9/lib/python/site-packages (from torch>=1.8.0->ultralytics) (3.1)\n",
      "Requirement already satisfied: jinja2 in /Users/garrygeng/Library/Python/3.9/lib/python/site-packages (from torch>=1.8.0->ultralytics) (3.1.2)\n",
      "Requirement already satisfied: zipp>=3.1.0 in /Users/garrygeng/Library/Python/3.9/lib/python/site-packages (from importlib-resources>=3.2.0->matplotlib>=3.3.0->ultralytics) (3.16.2)\n",
      "Requirement already satisfied: six>=1.5 in /Library/Developer/CommandLineTools/Library/Frameworks/Python3.framework/Versions/3.9/lib/python3.9/site-packages (from python-dateutil>=2.7->matplotlib>=3.3.0->ultralytics) (1.15.0)\n",
      "Requirement already satisfied: MarkupSafe>=2.0 in /Users/garrygeng/Library/Python/3.9/lib/python/site-packages (from jinja2->torch>=1.8.0->ultralytics) (2.1.3)\n",
      "Requirement already satisfied: mpmath>=0.19 in /Users/garrygeng/Library/Python/3.9/lib/python/site-packages (from sympy->torch>=1.8.0->ultralytics) (1.3.0)\n",
      "Defaulting to user installation because normal site-packages is not writeable\n",
      "Requirement already satisfied: roboflow in /Users/garrygeng/Library/Python/3.9/lib/python/site-packages (1.1.53)\n",
      "Requirement already satisfied: certifi in /Users/garrygeng/Library/Python/3.9/lib/python/site-packages (from roboflow) (2023.7.22)\n",
      "Requirement already satisfied: idna==3.7 in /Users/garrygeng/Library/Python/3.9/lib/python/site-packages (from roboflow) (3.7)\n",
      "Requirement already satisfied: cycler in /Users/garrygeng/Library/Python/3.9/lib/python/site-packages (from roboflow) (0.11.0)\n",
      "Requirement already satisfied: kiwisolver>=1.3.1 in /Users/garrygeng/Library/Python/3.9/lib/python/site-packages (from roboflow) (1.4.5)\n",
      "Requirement already satisfied: matplotlib in /Users/garrygeng/Library/Python/3.9/lib/python/site-packages (from roboflow) (3.7.2)\n",
      "Requirement already satisfied: numpy>=1.18.5 in /Users/garrygeng/Library/Python/3.9/lib/python/site-packages (from roboflow) (1.25.2)\n",
      "Requirement already satisfied: opencv-python-headless==4.10.0.84 in /Users/garrygeng/Library/Python/3.9/lib/python/site-packages (from roboflow) (4.10.0.84)\n",
      "Requirement already satisfied: Pillow>=7.1.2 in /Users/garrygeng/Library/Python/3.9/lib/python/site-packages (from roboflow) (10.0.0)\n",
      "Requirement already satisfied: python-dateutil in /Users/garrygeng/Library/Python/3.9/lib/python/site-packages (from roboflow) (2.8.2)\n",
      "Requirement already satisfied: python-dotenv in /Users/garrygeng/Library/Python/3.9/lib/python/site-packages (from roboflow) (1.0.1)\n",
      "Requirement already satisfied: requests in /Users/garrygeng/Library/Python/3.9/lib/python/site-packages (from roboflow) (2.32.3)\n",
      "Requirement already satisfied: six in /Library/Developer/CommandLineTools/Library/Frameworks/Python3.framework/Versions/3.9/lib/python3.9/site-packages (from roboflow) (1.15.0)\n",
      "Requirement already satisfied: urllib3>=1.26.6 in /Users/garrygeng/Library/Python/3.9/lib/python/site-packages (from roboflow) (2.3.0)\n",
      "Requirement already satisfied: tqdm>=4.41.0 in /Users/garrygeng/Library/Python/3.9/lib/python/site-packages (from roboflow) (4.66.4)\n",
      "Requirement already satisfied: PyYAML>=5.3.1 in /Users/garrygeng/Library/Python/3.9/lib/python/site-packages (from roboflow) (6.0.1)\n",
      "Requirement already satisfied: requests-toolbelt in /Users/garrygeng/Library/Python/3.9/lib/python/site-packages (from roboflow) (1.0.0)\n",
      "Requirement already satisfied: filetype in /Users/garrygeng/Library/Python/3.9/lib/python/site-packages (from roboflow) (1.2.0)\n",
      "Requirement already satisfied: contourpy>=1.0.1 in /Users/garrygeng/Library/Python/3.9/lib/python/site-packages (from matplotlib->roboflow) (1.1.0)\n",
      "Requirement already satisfied: fonttools>=4.22.0 in /Users/garrygeng/Library/Python/3.9/lib/python/site-packages (from matplotlib->roboflow) (4.42.1)\n",
      "Requirement already satisfied: packaging>=20.0 in /Users/garrygeng/Library/Python/3.9/lib/python/site-packages (from matplotlib->roboflow) (23.1)\n",
      "Requirement already satisfied: pyparsing<3.1,>=2.3.1 in /Users/garrygeng/Library/Python/3.9/lib/python/site-packages (from matplotlib->roboflow) (3.0.9)\n",
      "Requirement already satisfied: importlib-resources>=3.2.0 in /Users/garrygeng/Library/Python/3.9/lib/python/site-packages (from matplotlib->roboflow) (6.0.1)\n",
      "Requirement already satisfied: charset-normalizer<4,>=2 in /Users/garrygeng/Library/Python/3.9/lib/python/site-packages (from requests->roboflow) (3.2.0)\n",
      "Requirement already satisfied: zipp>=3.1.0 in /Users/garrygeng/Library/Python/3.9/lib/python/site-packages (from importlib-resources>=3.2.0->matplotlib->roboflow) (3.16.2)\n"
     ]
    }
   ],
   "source": [
    "!pip install ultralytics\n",
    "!pip install roboflow                "
   ]
  },
  {
   "cell_type": "markdown",
   "metadata": {},
   "source": [
    "## Load & Set Dataset"
   ]
  },
  {
   "cell_type": "code",
   "execution_count": 1,
   "metadata": {},
   "outputs": [
    {
     "name": "stderr",
     "output_type": "stream",
     "text": [
      "/Users/garrygeng/Library/Python/3.9/lib/python/site-packages/urllib3/__init__.py:35: NotOpenSSLWarning: urllib3 v2 only supports OpenSSL 1.1.1+, currently the 'ssl' module is compiled with 'LibreSSL 2.8.3'. See: https://github.com/urllib3/urllib3/issues/3020\n",
      "  warnings.warn(\n"
     ]
    },
    {
     "name": "stdout",
     "output_type": "stream",
     "text": [
      "loading Roboflow workspace...\n",
      "loading Roboflow project...\n"
     ]
    }
   ],
   "source": [
    "from roboflow import Roboflow\n",
    "from ultralytics import YOLO, settings\n",
    "\n",
    "rf = Roboflow(api_key=\"A0nVf3Qxv9Ze7RrtqV3W\")\n",
    "project = rf.workspace(\"landslide-28gdu\").project(\"landslide-area-segmentation\")\n",
    "version = project.version(6)\n",
    "dataset = version.download(\"yolov11\")"
   ]
  },
  {
   "cell_type": "code",
   "execution_count": 2,
   "metadata": {},
   "outputs": [
    {
     "name": "stdout",
     "output_type": "stream",
     "text": [
      "JSONDict(\"/Users/garrygeng/Library/Application Support/Ultralytics/settings.json\"):\n",
      "{\n",
      "  \"settings_version\": \"0.0.6\",\n",
      "  \"datasets_dir\": \"/Users/garrygeng/Desktop/YOLO/Landslide-Area-Segmentation-6\",\n",
      "  \"weights_dir\": \"weights\",\n",
      "  \"runs_dir\": \"runs\",\n",
      "  \"uuid\": \"b406ac71b2beb8fa80656ee616450baa29492ac3e2b490aec1ee2ab2e2a1d082\",\n",
      "  \"sync\": true,\n",
      "  \"api_key\": \"\",\n",
      "  \"openai_api_key\": \"\",\n",
      "  \"clearml\": true,\n",
      "  \"comet\": true,\n",
      "  \"dvc\": true,\n",
      "  \"hub\": true,\n",
      "  \"mlflow\": true,\n",
      "  \"neptune\": true,\n",
      "  \"raytune\": true,\n",
      "  \"tensorboard\": true,\n",
      "  \"wandb\": false,\n",
      "  \"vscode_msg\": true\n",
      "}\n"
     ]
    }
   ],
   "source": [
    "settings.update({\"datasets_dir\": \"/Users/garrygeng/Desktop/YOLO/Landslide-Area-Segmentation-6\"})\n",
    "print(settings)"
   ]
  },
  {
   "cell_type": "markdown",
   "metadata": {},
   "source": [
    "## Test for the original model"
   ]
  },
  {
   "cell_type": "code",
   "execution_count": 4,
   "metadata": {},
   "outputs": [
    {
     "name": "stdout",
     "output_type": "stream",
     "text": [
      "\n",
      "image 1/1 /Users/garrygeng/Desktop/YOLO/Landslide-Area-Segmentation-6/test/images/12_flip_jpg.rf.19afbd5f6be57496c3745198e9b41755.jpg: 640x640 (no detections), 379.4ms\n",
      "Speed: 2.4ms preprocess, 379.4ms inference, 4.2ms postprocess per image at shape (1, 3, 640, 640)\n"
     ]
    }
   ],
   "source": [
    "model = YOLO(\"yolo11l.pt\")\n",
    "# Perform object detection on an image\n",
    "results = model(\"Landslide-Area-Segmentation-6/test/images/12_flip_jpg.rf.19afbd5f6be57496c3745198e9b41755.jpg\")\n",
    "\n",
    "# Visualize the results\n",
    "for result in results:\n",
    "    result.show()\n"
   ]
  },
  {
   "cell_type": "markdown",
   "metadata": {},
   "source": [
    "## Training the YOLO 11 N model"
   ]
  },
  {
   "cell_type": "code",
   "execution_count": null,
   "metadata": {},
   "outputs": [
    {
     "name": "stdout",
     "output_type": "stream",
     "text": [
      "Ultralytics 8.3.74 🚀 Python-3.9.6 torch-2.0.1 MPS (Apple M2)\n",
      "\u001b[34m\u001b[1mengine/trainer: \u001b[0mtask=detect, mode=train, model=yolo11n.pt, data=./Landslide-Area-Segmentation-6/data.yaml, epochs=10, time=None, patience=100, batch=16, imgsz=640, save=True, save_period=-1, cache=False, device=mps, workers=8, project=runs/detect, name=landslide_detection15, exist_ok=False, pretrained=True, optimizer=auto, verbose=True, seed=0, deterministic=True, single_cls=False, rect=False, cos_lr=False, close_mosaic=10, resume=False, amp=True, fraction=1.0, profile=False, freeze=None, multi_scale=False, overlap_mask=True, mask_ratio=4, dropout=0.0, val=True, split=val, save_json=False, save_hybrid=False, conf=None, iou=0.7, max_det=300, half=False, dnn=False, plots=True, source=None, vid_stride=1, stream_buffer=False, visualize=False, augment=False, agnostic_nms=False, classes=None, retina_masks=False, embed=None, show=False, save_frames=False, save_txt=False, save_conf=False, save_crop=False, show_labels=True, show_conf=True, show_boxes=True, line_width=None, format=torchscript, keras=False, optimize=False, int8=False, dynamic=False, simplify=True, opset=None, workspace=None, nms=False, lr0=0.01, lrf=0.01, momentum=0.937, weight_decay=0.0005, warmup_epochs=3.0, warmup_momentum=0.8, warmup_bias_lr=0.1, box=7.5, cls=0.5, dfl=1.5, pose=12.0, kobj=1.0, nbs=64, hsv_h=0.015, hsv_s=0.7, hsv_v=0.4, degrees=0.0, translate=0.1, scale=0.5, shear=0.0, perspective=0.0, flipud=0.0, fliplr=0.5, bgr=0.0, mosaic=1.0, mixup=0.0, copy_paste=0.0, copy_paste_mode=flip, auto_augment=randaugment, erasing=0.4, crop_fraction=1.0, cfg=None, tracker=botsort.yaml, save_dir=runs/detect/landslide_detection15\n",
      "Overriding model.yaml nc=80 with nc=3\n",
      "\n",
      "                   from  n    params  module                                       arguments                     \n",
      "  0                  -1  1       464  ultralytics.nn.modules.conv.Conv             [3, 16, 3, 2]                 \n",
      "  1                  -1  1      4672  ultralytics.nn.modules.conv.Conv             [16, 32, 3, 2]                \n",
      "  2                  -1  1      6640  ultralytics.nn.modules.block.C3k2            [32, 64, 1, False, 0.25]      \n",
      "  3                  -1  1     36992  ultralytics.nn.modules.conv.Conv             [64, 64, 3, 2]                \n",
      "  4                  -1  1     26080  ultralytics.nn.modules.block.C3k2            [64, 128, 1, False, 0.25]     \n",
      "  5                  -1  1    147712  ultralytics.nn.modules.conv.Conv             [128, 128, 3, 2]              \n",
      "  6                  -1  1     87040  ultralytics.nn.modules.block.C3k2            [128, 128, 1, True]           \n",
      "  7                  -1  1    295424  ultralytics.nn.modules.conv.Conv             [128, 256, 3, 2]              \n",
      "  8                  -1  1    346112  ultralytics.nn.modules.block.C3k2            [256, 256, 1, True]           \n",
      "  9                  -1  1    164608  ultralytics.nn.modules.block.SPPF            [256, 256, 5]                 \n",
      " 10                  -1  1    249728  ultralytics.nn.modules.block.C2PSA           [256, 256, 1]                 \n",
      " 11                  -1  1         0  torch.nn.modules.upsampling.Upsample         [None, 2, 'nearest']          \n",
      " 12             [-1, 6]  1         0  ultralytics.nn.modules.conv.Concat           [1]                           \n",
      " 13                  -1  1    111296  ultralytics.nn.modules.block.C3k2            [384, 128, 1, False]          \n",
      " 14                  -1  1         0  torch.nn.modules.upsampling.Upsample         [None, 2, 'nearest']          \n",
      " 15             [-1, 4]  1         0  ultralytics.nn.modules.conv.Concat           [1]                           \n",
      " 16                  -1  1     32096  ultralytics.nn.modules.block.C3k2            [256, 64, 1, False]           \n",
      " 17                  -1  1     36992  ultralytics.nn.modules.conv.Conv             [64, 64, 3, 2]                \n",
      " 18            [-1, 13]  1         0  ultralytics.nn.modules.conv.Concat           [1]                           \n",
      " 19                  -1  1     86720  ultralytics.nn.modules.block.C3k2            [192, 128, 1, False]          \n",
      " 20                  -1  1    147712  ultralytics.nn.modules.conv.Conv             [128, 128, 3, 2]              \n",
      " 21            [-1, 10]  1         0  ultralytics.nn.modules.conv.Concat           [1]                           \n",
      " 22                  -1  1    378880  ultralytics.nn.modules.block.C3k2            [384, 256, 1, True]           \n",
      " 23        [16, 19, 22]  1    431257  ultralytics.nn.modules.head.Detect           [3, [64, 128, 256]]           \n",
      "YOLO11n summary: 319 layers, 2,590,425 parameters, 2,590,409 gradients, 6.4 GFLOPs\n",
      "\n",
      "Transferred 448/499 items from pretrained weights\n",
      "\u001b[34m\u001b[1mTensorBoard: \u001b[0mStart with 'tensorboard --logdir runs/detect/landslide_detection15', view at http://localhost:6006/\n",
      "Freezing layer 'model.23.dfl.conv.weight'\n"
     ]
    },
    {
     "name": "stderr",
     "output_type": "stream",
     "text": [
      "\u001b[34m\u001b[1mtrain: \u001b[0mScanning /Users/garrygeng/Desktop/YOLO/Landslide-Area-Segmentation-6/train/labels... 1623 images, 3 backgrounds, 0 corrupt: 100%|██████████| 1623/1623 [00:00<00:00, 3455.35it/s]"
     ]
    },
    {
     "name": "stdout",
     "output_type": "stream",
     "text": [
      "\u001b[34m\u001b[1mtrain: \u001b[0mWARNING ⚠️ /Users/garrygeng/Desktop/YOLO/Landslide-Area-Segmentation-6/train/images/13_translate_images_jpg.rf.ababd1c7422044f02d5ea39d1f6b2843.jpg: 1 duplicate labels removed\n",
      "\u001b[34m\u001b[1mtrain: \u001b[0mNew cache created: /Users/garrygeng/Desktop/YOLO/Landslide-Area-Segmentation-6/train/labels.cache\n"
     ]
    },
    {
     "name": "stderr",
     "output_type": "stream",
     "text": [
      "\n",
      "\u001b[34m\u001b[1mval: \u001b[0mScanning /Users/garrygeng/Desktop/YOLO/Landslide-Area-Segmentation-6/valid/labels... 130 images, 0 backgrounds, 0 corrupt: 100%|██████████| 130/130 [00:00<00:00, 3373.73it/s]"
     ]
    },
    {
     "name": "stdout",
     "output_type": "stream",
     "text": [
      "\u001b[34m\u001b[1mval: \u001b[0mNew cache created: /Users/garrygeng/Desktop/YOLO/Landslide-Area-Segmentation-6/valid/labels.cache\n"
     ]
    },
    {
     "name": "stderr",
     "output_type": "stream",
     "text": [
      "\n"
     ]
    },
    {
     "name": "stdout",
     "output_type": "stream",
     "text": [
      "Plotting labels to runs/detect/landslide_detection15/labels.jpg... \n",
      "\u001b[34m\u001b[1moptimizer:\u001b[0m 'optimizer=auto' found, ignoring 'lr0=0.01' and 'momentum=0.937' and determining best 'optimizer', 'lr0' and 'momentum' automatically... \n",
      "\u001b[34m\u001b[1moptimizer:\u001b[0m AdamW(lr=0.001429, momentum=0.9) with parameter groups 81 weight(decay=0.0), 88 weight(decay=0.0005), 87 bias(decay=0.0)\n",
      "\u001b[34m\u001b[1mTensorBoard: \u001b[0mmodel graph visualization added ✅\n",
      "Image sizes 640 train, 640 val\n",
      "Using 0 dataloader workers\n",
      "Logging results to \u001b[1mruns/detect/landslide_detection15\u001b[0m\n",
      "Starting training for 10 epochs...\n",
      "Closing dataloader mosaic\n",
      "\n",
      "      Epoch    GPU_mem   box_loss   cls_loss   dfl_loss  Instances       Size\n"
     ]
    },
    {
     "name": "stderr",
     "output_type": "stream",
     "text": [
      "  0%|          | 0/102 [00:00<?, ?it/s]"
     ]
    },
    {
     "ename": "",
     "evalue": "",
     "output_type": "error",
     "traceback": [
      "\u001b[1;31m在当前单元格或上一个单元格中执行代码时 Kernel 崩溃。\n",
      "\u001b[1;31m请查看单元格中的代码，以确定故障的可能原因。\n",
      "\u001b[1;31m单击<a href='https://aka.ms/vscodeJupyterKernelCrash'>此处</a>了解详细信息。\n",
      "\u001b[1;31m有关更多详细信息，请查看 Jupyter <a href='command:jupyter.viewOutput'>log</a>。"
     ]
    }
   ],
   "source": [
    "import torch\n",
    "\n",
    "torch.manual_seed(42)\n",
    "\n",
    "dataset_config = './Landslide-Area-Segmentation-6/data.yaml'\n",
    "model = YOLO(\"yolo11l.pt\")\n",
    "\n",
    "results = model.train(\n",
    "    data=dataset_config,\n",
    "    epochs=10,\n",
    "    imgsz=640,\n",
    "    batch=16,\n",
    "    name='landslide_detection',\n",
    "    project='runs/detect',\n",
    "    # device='mps',\n",
    ")\n",
    "\n",
    "# 评估模型\n",
    "metrics = model.val()\n",
    "\n",
    "# 保存最佳模型权重\n",
    "best_model_weights = 'runs/detect/landslide_detection/weights/best.pt'\n",
    "print(f\"Best model weights saved to {best_model_weights}\")"
   ]
  },
  {
   "cell_type": "markdown",
   "metadata": {},
   "source": [
    "## Val"
   ]
  },
  {
   "cell_type": "code",
   "execution_count": 14,
   "metadata": {},
   "outputs": [
    {
     "name": "stdout",
     "output_type": "stream",
     "text": [
      "Ultralytics 8.3.74 🚀 Python-3.9.6 torch-2.0.1 CPU (Apple M2)\n",
      "YOLO11l summary (fused): 464 layers, 25,281,625 parameters, 0 gradients, 86.6 GFLOPs\n"
     ]
    },
    {
     "name": "stderr",
     "output_type": "stream",
     "text": [
      "\u001b[34m\u001b[1mval: \u001b[0mScanning /Users/garrygeng/Desktop/YOLO/Landslide-Area-Segmentation-6/valid/labels.cache... 130 images, 0 backgrounds, 0 corrupt: 100%|██████████| 130/130 [00:00<?, ?it/s]\n",
      "                 Class     Images  Instances      Box(P          R      mAP50  mAP50-95): 100%|██████████| 9/9 [02:23<00:00, 15.94s/it]\n"
     ]
    },
    {
     "name": "stdout",
     "output_type": "stream",
     "text": [
      "                   all        130        209      0.722       0.47      0.562      0.389\n",
      "             landslide        130        195      0.754      0.631      0.646      0.425\n",
      "                object          2          2      0.413        0.5      0.496      0.347\n",
      "                 rocks          1         12          1       0.28      0.544      0.394\n",
      "Speed: 0.9ms preprocess, 1098.2ms inference, 0.0ms loss, 0.4ms postprocess per image\n",
      "Results saved to \u001b[1mruns/detect/val8\u001b[0m\n"
     ]
    },
    {
     "data": {
      "text/plain": [
       "array([    0.42463,     0.34739,     0.39395])"
      ]
     },
     "execution_count": 14,
     "metadata": {},
     "output_type": "execute_result"
    }
   ],
   "source": [
    "# 加载训练好的模型\n",
    "model = YOLO('yolo11l.pt')\n",
    "model = YOLO('./weights/best.pt')\n",
    "# Validate the model\n",
    "metrics = model.val()  # no arguments needed, dataset and settings remembered\n",
    "metrics.box.map  # map50-95\n",
    "metrics.box.map50  # map50\n",
    "metrics.box.map75  # map75\n",
    "metrics.box.maps  # a list contains map50-95 of each category"
   ]
  },
  {
   "cell_type": "markdown",
   "metadata": {},
   "source": [
    "## Predict"
   ]
  },
  {
   "cell_type": "code",
   "execution_count": 15,
   "metadata": {},
   "outputs": [
    {
     "name": "stdout",
     "output_type": "stream",
     "text": [
      "\n",
      "0: 640x640 (no detections), 401.2ms\n",
      "1: 640x640 2 landslides, 401.2ms\n",
      "Speed: 2.0ms preprocess, 401.2ms inference, 0.9ms postprocess per image at shape (1, 3, 640, 640)\n"
     ]
    }
   ],
   "source": [
    "from ultralytics import YOLO\n",
    "\n",
    "# Load a model\n",
    "model = YOLO(\"yolo11l.pt\")  # pretrained YOLO11n model\n",
    "model = YOLO('./weights/best.pt')\n",
    "\n",
    "# Run batched inference on a list of images\n",
    "results = model([\"random-shapes-to-random-images-v0-8nayrq3y25oa1.webp\", \"random-images-v0-gegqtubaln0b1.webp\"])  # return a list of Results objects\n",
    "\n",
    "# Process results list\n",
    "for result in results:\n",
    "    boxes = result.boxes  # Boxes object for bounding box outputs\n",
    "    masks = result.masks  # Masks object for segmentation masks outputs\n",
    "    keypoints = result.keypoints  # Keypoints object for pose outputs\n",
    "    probs = result.probs  # Probs object for classification outputs\n",
    "    obb = result.obb  # Oriented boxes object for OBB outputs\n",
    "    result.show()  # display to screen\n",
    "    result.save(filename=\"result.jpg\")  # save to disk"
   ]
  },
  {
   "cell_type": "code",
   "execution_count": null,
   "metadata": {},
   "outputs": [],
   "source": []
  }
 ],
 "metadata": {
  "kernelspec": {
   "display_name": "Python 3",
   "language": "python",
   "name": "python3"
  },
  "language_info": {
   "codemirror_mode": {
    "name": "ipython",
    "version": 3
   },
   "file_extension": ".py",
   "mimetype": "text/x-python",
   "name": "python",
   "nbconvert_exporter": "python",
   "pygments_lexer": "ipython3",
   "version": "3.9.6"
  }
 },
 "nbformat": 4,
 "nbformat_minor": 2
}
